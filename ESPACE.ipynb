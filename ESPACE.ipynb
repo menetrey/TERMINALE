{
 "cells": [
  {
   "cell_type": "markdown",
   "metadata": {},
   "source": [
    "# DROITES ET PLANS\n",
    "  <div class=\"alert alert-block alert-info\">\n",
    "    <b>Contenus</b><br>\n",
    "- Vecteurs de l’espace. Translations.<br>\n",
    "- Combinaisons linéaires de vecteurs de l’espace.<br>\n",
    "- Droites de l’espace. Vecteurs directeurs d’une droite. Vecteurs colinéaires.<br>\n",
    "- Caractérisation d’une droite par un point et un vecteur directeur.<br>\n",
    "- Plans de l’espace. Direction d’un plan de l’espace.<br>\n",
    "- Caractérisation d’un plan de l’espace par un point et un couple de vecteurs non colinéaires.<br>\n",
    "- Bases et repères de l’espace. Décomposition d’un vecteur sur une base.<br>\n",
    "    <b>Capacités attendues</b><br>\n",
    "- Représenter des combinaisons linéaires de vecteurs donnés.<br>\n",
    "- Exploiter une figure pour exprimer un vecteur comme combinaison linéaire de vecteurs.<br>\n",
    "- Décrire la position relative de deux droites, d’une droite et d’un plan, de deux plans.<br>\n",
    "- Lire sur une figure si deux vecteurs d’un plan, trois vecteurs de l’espace, forment une base.<br>\n",
    "- Lire sur une figure la décomposition d'un vecteur dans une base.<br>\n",
    "- Étudier géométriquement des problèmes simples de configurations dans l’espace (alignement, colinéarité, parallélisme, coplanarité).<br>\n",
    "    </div>"
   ]
  },
  {
   "cell_type": "markdown",
   "metadata": {},
   "source": [
    "## I) Petite histoire des vecteurs"
   ]
  },
  {
   "cell_type": "markdown",
   "metadata": {},
   "source": [
    "La notion de vecteurs apparaît dès l'étude de modèles de physiques dynamiques (forces de Newton) et des vitesses dans les calculs géométriques de Leibniz.  \n",
    "C'est cette notion qui permettra d'établir les calculs algébriques dans des  domaines proche des mathématiques comme de la physique (théorie des forces et des marées, 1839 Grassmann, électromagnétisme de Maxwell, Hamilton, Heaviside et Gibbs pour l'actuelle notation) aboutissant au produit scalaire."
   ]
  },
  {
   "cell_type": "markdown",
   "metadata": {},
   "source": [
    "## II) Dans le plan "
   ]
  },
  {
   "cell_type": "markdown",
   "metadata": {},
   "source": [
    "### 1) Notion de vecteur  - tanslation"
   ]
  },
  {
   "cell_type": "markdown",
   "metadata": {},
   "source": [
    "#### a) Définition dans un plan "
   ]
  },
  {
   "cell_type": "markdown",
   "metadata": {},
   "source": [
    "Soient A et B deux points du plan, on associe le vecteur $\\overrightarrow{AB}$ à la translation qui transforme A en B.  \n",
    "\n",
    "Deux vecteurs $\\overrightarrow{AB}$ et $\\overrightarrow{CD}$ sont égaux $\\iff$ ABDC est un parallélogramme.  \n",
    "\n",
    "Dans un repère $(O,\\vec{u},\\vec{v})$, on retrouve les coordonnées du $\\overrightarrow{AB}$ par : $\\overrightarrow{AB}\\begin{pmatrix}x_B-x_A \\\\ y_B-y_A \\end{pmatrix}$.  \n",
    "\n"
   ]
  },
  {
   "cell_type": "markdown",
   "metadata": {},
   "source": [
    "#### b) Combinaison linéaire et base dans le plan"
   ]
  },
  {
   "cell_type": "markdown",
   "metadata": {},
   "source": [
    "Il est possible de définir un vecteur à partir d'une combinaison linéaires de vecteurs de base.  \n",
    "**exemple:** \n",
    "Dans le repère $(O,\\overrightarrow{AB},\\overrightarrow{AC})$, on peut définir le vecteur  $\\overrightarrow{AD}$: \n",
    "\n",
    "$\\overrightarrow{AD}=2\\overrightarrow{AB}+3\\overrightarrow{AC}$    \n",
    "  \n",
    "  Nous connaissons aussi la **relation de Chasles** qui permet d'exprimer tout vecteur en la somme de deux autres vecteurs convenablement choisis. Ainsi, on peut écrire que :  \n",
    "  $$\\overrightarrow{AD}+\\overrightarrow{DE}=\\overrightarrow{AE}$$\n"
   ]
  },
  {
   "cell_type": "markdown",
   "metadata": {},
   "source": [
    "|Pages|Exercices|\n",
    "|---|---|\n",
    "|307|n° 6|\n",
    "\n"
   ]
  },
  {
   "cell_type": "markdown",
   "metadata": {},
   "source": [
    "### 2) Cas des vecteurs colinéaires"
   ]
  },
  {
   "cell_type": "markdown",
   "metadata": {},
   "source": [
    "\n",
    "Soient $\\overrightarrow{AB}$ et $\\overrightarrow{DE}$ deux vecteurs du plan. On dit que $\\overrightarrow{AB}$ et $\\overrightarrow{DE}$ sont colinéaires s'il existe un **réel** k tel que $\\overrightarrow{AB}=k\\overrightarrow{DE}$.  \n",
    "  \n",
    "  **Conséquences:**   \n",
    "  Les vecteurs $\\overrightarrow{AB}$ et $\\overrightarrow{DE}$ ont la même direction et $(AB)//(DE)$.  \n",
    "  \n",
    "  \n",
    "    \n",
    "  **Cas particulier:**   \n",
    "  les vecteurs ont un point en commun $\\overrightarrow{AB}=k\\overrightarrow{AC}$ a des conséquences particulières. Les droites $(AB)$ et $(AC)$ sont confondues et les points A, B et C sont alignées.\n",
    "  \n",
    "|Exercices | Pages |\n",
    "|---|---|\n",
    "|1 et 2 |  326|\n",
    "\n",
    "\n",
    "    \n",
    "    "
   ]
  },
  {
   "cell_type": "code",
   "execution_count": 1,
   "metadata": {},
   "outputs": [],
   "source": [
    "def alignement(xA,yA,xB,yB,xC,yC):\n",
    "    v = []\n",
    "    u = []\n",
    "    v.append(xB-xA)\n",
    "    v.append(yB-yA)\n",
    "    u.append(xC-xA)\n",
    "    u.append(yC-yA)\n",
    "    if v[0]*u[1]-v[1]*u[0]==0:\n",
    "        print(\"les points sont alignés\")\n",
    "    else:\n",
    "        print(\"les points ne sont pas alignés\")   \n"
   ]
  },
  {
   "cell_type": "code",
   "execution_count": 3,
   "metadata": {},
   "outputs": [
    {
     "name": "stdout",
     "output_type": "stream",
     "text": [
      "les points ne sont pas alignés\n"
     ]
    }
   ],
   "source": [
    "alignement(1,2,2,3,3,5)"
   ]
  },
  {
   "cell_type": "markdown",
   "metadata": {},
   "source": [
    "### 3) Vecteur directeur d'une droite"
   ]
  },
  {
   "cell_type": "markdown",
   "metadata": {},
   "source": [
    "Soient A et B deux points distincts du plan.  \n",
    "La droite (AB) est l'ensemble des points tels que: $\\overrightarrow{AM}= k \\overrightarrow{AB}$  où $k \\in \\mathbb{R}$\n",
    "  \n",
    "  On dit que $\\overrightarrow{AB}$ est **un** vecteur directeur de $(AB)$.  \n",
    "    \n",
    "  Tous vecteurs colinéaires à  $\\overrightarrow{AB}$ est un vecteur directeur de $(AB)$ .\n",
    "  \n",
    "  \n",
    "  <div class=\"alert alert-block alert-danger\">\n",
    "    <b> Démonstration d'un cas particulier: Equation cartésienne d'une droite dans le plan. </b><br>\n",
    "    Prenons la droite (AB) dont les points A et B ont pour coordonnées: A(2;3) et B(5;9).  <br>\n",
    "    Nous cherchons donc pour ainsi dire, l'ensemble des points M tel que $\\overrightarrow{AM}=k\\overrightarrow{AB}$.  <br>\n",
    "    Nous trouvons les coordonnées des vecteurs : $\\overrightarrow{AB}(3;6)$ et $\\overrightarrow{AM}(x-2;y-3)$. <br>\n",
    "    <br>\n",
    "    Sachant que $\\overrightarrow{AM}=k\\overrightarrow{AB}$ $\\iff$ $ab'-a'b=0$.<br>\n",
    "    $\\iff 3y-9-6x+12=0$<br>\n",
    "    $\\iff 3y-6x+3=0$<br>\n",
    "    $\\iff y-2x+1=0$ <br>\n",
    "    Il s'agit bien de l'équation cartésienne d'une droite dans le plan.\n",
    "    <br>\n",
    "    $\\iff y=2x-1$ <br>\n",
    "    Il est possible de retrouver l'équation réduite de cette droite.\n",
    "  \n",
    "  \n",
    "  </div>\n",
    "  \n",
    "  "
   ]
  },
  {
   "cell_type": "markdown",
   "metadata": {},
   "source": [
    "### 4) Caractérisation d'une droite par un point et un vecteur directeur"
   ]
  },
  {
   "cell_type": "markdown",
   "metadata": {},
   "source": [
    "Toute droite peut être définie à partir de deux points mais on peut aussi la définir à partir d'un point et d'un vecteur directeur.  \n",
    "\n",
    " <div class=\"alert alert-block alert-info\">\n",
    "    <b> Définir un vecteur directeur d'une droite connaissant son équation cartésienne. </b><br>\n",
    "    Soit $\\overrightarrow{u}(x_{\\overrightarrow{u}};y_{\\overrightarrow{u}})$ le vecteur directeur de la droite $d$ et $A(x_A;y_A)$ un de ses points. <br> \n",
    "    Tout point $M \\in d$ respecte la condition $\\overrightarrow{AM}=k\\overrightarrow{u}$.  <br>\n",
    "    avec $\\overrightarrow{AM}\\begin{pmatrix} \\textbf{x}-x_A \\\\ \\textbf{y}-y_A \\end{pmatrix}$\n",
    "     et $\\overrightarrow{u}\\begin{pmatrix} x_{\\overrightarrow{u}} \\\\ y_{\\overrightarrow{u}} \\end{pmatrix}$<br>\n",
    "    $\\overrightarrow{AM}=k\\overrightarrow{u} \\iff y_\\overrightarrow{u}(\\textbf{x}-x_A)-x_{\\overrightarrow{u}}(\\textbf{y}-y_A)=0$ <br>\n",
    "    $\\overrightarrow{AM}=k\\overrightarrow{u} \\iff y_\\overrightarrow{u} \\times\\textbf{x}-y_\\overrightarrow{u}\\times x_A -x_{\\overrightarrow{u}}\\times \\textbf{y} + x_{\\overrightarrow{u}} \\times y_A=0$ <br>\n",
    "     $\\overrightarrow{AM}=k\\overrightarrow{u} \\iff \n",
    "     y_\\overrightarrow{u} \\times\\textbf{x}-x_{\\overrightarrow{u}}\\times \\textbf{y} -y_\\overrightarrow{u}\\times x_A + x_{\\overrightarrow{u}} \\times y_A=0$ <br>   \n",
    "     $\\overrightarrow{AM}=k\\overrightarrow{u} \\iff \n",
    "     a\\textbf{x}+b\\textbf{y} +c=0$ <br> <br>\n",
    "     En posant $ \\begin{matrix} y_{\\overrightarrow{u}}=a & x_{\\overrightarrow{u}}=-b & c= -y_{\\overrightarrow{u}}x_A +x_{\\overrightarrow{u}}y_A \\end{matrix}$<br><br>\n",
    "     La droite $d$ d'équation $ax+by+c=0$ admet comme vecteur directeur $\\overrightarrow{u}\\begin{pmatrix} -b \\\\ a \\end{pmatrix}$\n",
    "    \n",
    "   </div>\n",
    "   \n",
    "   \n",
    "   **Exemple:** Définissez un vecteur directeur de la droite $d_1$ d'équation: $2x-3y+4=0$\n",
    "   \n",
    "    \n",
    "      \n",
    "   Si une droite a pour équation cartésienne $ax+by+c=0$ alors $\\overrightarrow{u}(-b;a)$ est **un** vecteur directeur de cette droite."
   ]
  },
  {
   "cell_type": "markdown",
   "metadata": {},
   "source": [
    "|Exercices|   Conditions |\n",
    "|---|---|\n",
    "|Faire la feuille sur les navires dans la manche| Travail de groupe|"
   ]
  },
  {
   "cell_type": "markdown",
   "metadata": {},
   "source": [
    "## III) Dans l'espace"
   ]
  },
  {
   "cell_type": "markdown",
   "metadata": {},
   "source": [
    "### 1) Vecteur dans l'espace"
   ]
  },
  {
   "cell_type": "markdown",
   "metadata": {},
   "source": [
    "#### a) définition"
   ]
  },
  {
   "cell_type": "markdown",
   "metadata": {},
   "source": [
    "- Soient A et B deux points **de l'espace**, on associe le vecteur $\\overrightarrow{AB}$ à la translation qui transforme A en B.  \n",
    "\n",
    "- Deux vecteurs $\\overrightarrow{AB}$ et $\\overrightarrow{CD}$ sont égaux $\\iff$ ABDC est un parallélogramme.  \n",
    "\n",
    "- Dans un repère $(O,\\vec{u},\\vec{v},\\vec{w})$, on retrouve les coordonnées du $\\overrightarrow{AB}$ par : $\\overrightarrow{AB}\\begin{pmatrix}x_B-x_A \\\\ y_B-y_A\\\\ z_B-z_A\\end{pmatrix}$. "
   ]
  },
  {
   "cell_type": "markdown",
   "metadata": {},
   "source": [
    "#### b) combinaison linéaire"
   ]
  },
  {
   "cell_type": "markdown",
   "metadata": {},
   "source": [
    "Comme dans le plan, il est possible de faire des combinaisons linéaires de vecteurs:  \n",
    "\n",
    "- $\\overrightarrow{AB} + \\overrightarrow{AC} = \\overrightarrow{AD}$ définit un parallélogramme ABDC (règle du parallélogramme)  \n",
    "- $\\overrightarrow{AB}+\\overrightarrow{BC}=\\overrightarrow{AC}$ (relation de Chalses)\n",
    "- $\\vec{u} $ et $\\vec{v}$ sont colinéaires $\\iff$ $\\vec{u}=k\\vec{v}$ avec $k$ réel.\n",
    "\n",
    "Ces relations sont inchangées dans l'espace.  \n",
    "\n",
    "**quelques propriétés sur les combinaisons linéaires**:  \n",
    "$\\begin{matrix} k\\vec{u}=\\vec{0} \\iff k=0 \\text{ ou } \\vec{u }= \\vec{0} & k(k'\\vec{u})=kk'\\vec{u} \\\\ (k+k')\\vec{u}=k\\vec{u}+k'\\vec{u} & k(\\vec{u}+\\vec{u'})=k\\vec{u}+k\\vec{u'} \\end{matrix}$\n",
    "\n",
    "**coplanaires**:\n",
    "On dit que des vecteurs sont coplanaires si l'on peut exprimer l'un avec deux autres vecteurs (cette somme décrivant déjà un plan).  \n"
   ]
  },
  {
   "cell_type": "markdown",
   "metadata": {},
   "source": [
    "#### c) droites dans l'espace "
   ]
  },
  {
   "cell_type": "markdown",
   "metadata": {},
   "source": [
    "Le cas du plan n'est pas transposable ici. Il est nécessaire de passer par un paramètre (souvent le temps, noté t) pour définir un droite dans l'espace. (Les navires dans la Manche).  \n",
    "\n",
    "Dans ce cas, un vecteur directeur d'une droite dans l'espace correspond au vecteur vitesse avec trois composantes: la vitesse selon les abscisses, la vitesse selon les ordonnées et la vitesse selon les côtes.  Il suffit ensuite d'avoir un point de départ pour définir une trajectoire rectiligne.  \n",
    "\n",
    "On retrouvera ainsi, l'expression paramétrique d'une droite dans l'espace:  \n",
    "\n",
    "$\\left\\{  \n",
    "  \\begin{array}\\\\   \n",
    "x=a\\textbf{t}+x_A \\\\\n",
    "y=b\\textbf{t}+y_A \\\\\n",
    "z=c\\textbf{t}+z_A \n",
    "  \\end{array}\n",
    "\\right . $\n",
    "avec le vecteur directeur $\\vec{u} \\begin{pmatrix} a \\\\ b\\\\c \\end{pmatrix} $  et l'origine du temps $A(x_A;y_A,z_A)$.\n",
    "\n"
   ]
  },
  {
   "cell_type": "markdown",
   "metadata": {},
   "source": [
    "|Pages|Exercices|\n",
    "|---|---|\n",
    "|326| n° 1,3,5 |\n",
    "|327 | n° 14, 16, 17, 18|\n",
    "|328| n° 21, 23, 24|\n",
    "|336|n° 71|\n",
    "|390-391|n° 2,6, 9 et 11|"
   ]
  },
  {
   "cell_type": "markdown",
   "metadata": {},
   "source": [
    "### 2) Plans de l'espace\n",
    "#### a) vecteurs non coplanaires\n",
    "\n",
    "Soient $\\overrightarrow{u}$ , $\\overrightarrow{v}$ et $\\overrightarrow{w}$ trois vecteurs de l’espace tels que $\\overrightarrow{u}$ et $\\overrightarrow{v}$ ne sont pas colinéaires.  \n",
    "$\\overrightarrow{u}$ , $\\overrightarrow{v}$ et $\\overrightarrow{w}$ sont coplanaires lorsqu’il existe deux réels $x$ et $y$ tels que :$$\\overrightarrow{w} = x \\overrightarrow{u} + y \\overrightarrow{v}.$$  \n",
    "  \n",
    "On dit alors que $\\overrightarrow{w}$ est une combinaison linéaire des vecteurs $\\overrightarrow{u}$ et $\\overrightarrow{v}$.  \n",
    "  \n"
   ]
  },
  {
   "cell_type": "markdown",
   "metadata": {},
   "source": [
    "### 3) Caractérisation d'un plan de l'espace par un point et un couple de vecteurs non colinéaires  \n",
    "\n",
    "<div class=\"alert alert-block alert-danger\">\n",
    "Un plan est défini par un point et un couple de vecteurs non colinéaires. <br>\n",
    "Le plan $(P)$ passant par A et de vecteurs directeurs $(\\overrightarrow{u},\\overrightarrow{v})$ est l'ensemble des points M tels que $\\overrightarrow{AM}$ soit une combinaison linéaire de $\\overrightarrow{u}$ et $\\overrightarrow{v}$. <br>\n",
    " On dit que le couple $(\\overrightarrow{u},\\overrightarrow{v})$ forme une base du plan $(P)$. <br>\n",
    "    \n",
    "</div>\n",
    "\n",
    "\n",
    "Le plan $(ABC)$ est l'ensemble des points M tels que:   \n",
    "$$\\overrightarrow{AM}=x\\overrightarrow{AB}+y\\overrightarrow{AC} \\quad (x;y) \\in \\mathbb{R}^2$$  \n",
    "$(x,y)$ sont les coordonnées du point M dans le repère $(A,\\overrightarrow{AB},\\overrightarrow{AC})$ du plan (ABC).  \n",
    "\n",
    "\n",
    "\n",
    "\n"
   ]
  },
  {
   "cell_type": "markdown",
   "metadata": {},
   "source": [
    "\n"
   ]
  },
  {
   "attachments": {
    "image-2.png": {
     "image/png": "[encoded data removed]"
    },
    "image.png": {
     "image/png": "[encoded data removed]"
    }
   },
   "cell_type": "markdown",
   "metadata": {},
   "source": [
    "### 4) Relations entre droites et plan\n",
    "\n",
    "#### a) Relation entre deux droites\n",
    "<div class=\"alert alert-block alert-danger\">\n",
    "Deux droites , dans l'espace, peuvent être:  <br>\n",
    "- sécantes , si ces deux droites se coupent en un point. <br>\n",
    "- parallèles, si ces deux droites sont coplanaires et n'ont aucun point commun ou si confondues. <br>    \n",
    "- non coplanaires <br>\n",
    "</div>    \n",
    "\n",
    "#### b) relations entre une droite et un plan\n",
    "<div class=\"alert alert-block alert-danger\">\n",
    "Une droite et un plan , dans l'espace, peuvent être:  <br>\n",
    "- parallèles : si la droite et le plan n'ont aucun point commun ou si la droite est contenue dans le plan. <br>\n",
    "- sécants: si la droite et le plan ont un point commun. <br>\n",
    "</div>  \n",
    "\n",
    "#### c) Relation entre deux plans\n",
    "<div class=\"alert alert-block alert-danger\">\n",
    "Deux plans , dans l'espace, peuvent être:  <br>\n",
    "- parallèles : si les deux plans n'ont aucun point commun ou si ils sont confondus. <br>\n",
    "- sécants: si les deux plans ont une droite en commun. <br>\n",
    "</div>   \n",
    "\n",
    "#### d) parallélisme\n",
    "<div class=\"alert alert-block alert-danger\">\n",
    " <b>Parallélisme de droites et de plans </b> <br>\n",
    "- Une droite est parallèle à un plan si et seulement si elle est parallèle à une droite de ce plan.  <br>\n",
    "- Deux plans sont parallèles si et seulement si deux droites sécantes de l'un sont parallèles à deux droites sécantes de l'autre.  <br>\n",
    "</div>  \n",
    "\n",
    "### IV) Repérage dans l'espace\n",
    "#### a) Base et repère\n",
    "<div class=\"alert alert-block alert-danger\">\n",
    "Trois vecteurs $\\overrightarrow{u},   \\overrightarrow{v}, \\overrightarrow{w}$   <b> non coplanaires</b> forment une base de l'espace. On note alors cette base $(\\overrightarrow{u}, \\overrightarrow{v},\\overrightarrow{w})$<br>\n",
    "Un point A et une base $\\overrightarrow{u},   \\overrightarrow{v}, \\overrightarrow{w}$ forme un repère de l'espacee, noté $(A, \\overrightarrow{u},   \\overrightarrow{v}, \\overrightarrow{w})$    \n",
    "    \n",
    "</div>    \n",
    "    \n",
    "Exemples: repère dans un cube ou un tétraèdre.  \n",
    "\n",
    "![image.png](attachment:image.png)\n",
    "\n",
    "    \n",
    "    \n",
    "#### b) Coordonnées d'un point\n",
    "<div class=\"alert alert-block alert-danger\">\n",
    "Soit la base $(\\overrightarrow{i}, \\overrightarrow{j}, \\overrightarrow{k})$ et un repère $(O,\\overrightarrow{i}, \\overrightarrow{j}, \\overrightarrow{k})$ de l'espace. <br>\n",
    "- tout point M de l'espace est alors défini, de façon unique, par:<br>\n",
    "    $$\\overrightarrow{OM}=x\\overrightarrow{i}+y\\overrightarrow{j}+z\\overrightarrow{k} \\quad (x;y;z) \\in \\mathbb{R}^3$$<br>\n",
    "- Les trois réels $(x;y;z)$ sont appelés coordonnées du point M dans $(O,\\overrightarrow{i},\\overrightarrow{j}, \\overrightarrow{k})$ .  \n",
    "    $(O,\\overrightarrow{i},\\overrightarrow{j}, \\overrightarrow{k})$ sont orthonormés si , et seulement si, <br>\n",
    "    $||\\overrightarrow{i}||=||\\overrightarrow{j}||=||\\overrightarrow{k}||=1$ et $\\overrightarrow{i},\\overrightarrow{j}, \\overrightarrow{k}$ mutuellement orthogonaux. <br>\n",
    "</div>\n",
    "\n",
    "En généralisant les relations du plan :   \n",
    "\n",
    "• $\\overrightarrow{AB}  (x_B − x_A ; y_B − y_A ; z_B − z_A)$  \n",
    "\n",
    "• Si I est le milieu de $[AB]$ :$\\quad I \\Big( \\dfrac{x_B + x_A}{2} ; \\dfrac{ y_B + y_A}{2} ; \\dfrac{ z_B + z_A}{2} \\Big)$\n",
    "  \n",
    "• $\\overrightarrow{u}  (a ; b ; c) $ alors dans un repère orthonormé :\n",
    "$||\\overrightarrow{u} || = \\sqrt{a^2 + b^2 + c^2}$\n",
    "\n",
    "\n",
    "![image-2.png](attachment:image-2.png)\n",
    "\n",
    "\n",
    "\n",
    "\n",
    "\n",
    "\n",
    "\n",
    "\n",
    "\n",
    "\n",
    "\n",
    "\n",
    "\n",
    "**Exemple:**  Soient les points $A(2;0;1)$, $B(1;-2;1)$, $C(5;5;0)$, $D(-3;-5;6)$.   \n",
    "Montrer que A, B et C ne sont pas alignés et que A,B,C et D sont coplanaires.   \n",
    "\n",
    "\n",
    "\n",
    "**Exemple:**  Donner une représentation paramétrique de la droite $d$ définie par:   \n",
    "$A(2;1;-1)$ et $\\overrightarrow{u}(0;1;-1)$  \n",
    "\n",
    "\n",
    "\n",
    "# V) Représentation paramétrique\n",
    "## 1) Représentation paramétrique d’une droite\n",
    "<div class =\"alert aert-block alert-danger\">\n",
    "<b>Théorème :</b><br>\n",
    "    \n",
    "Soit une droite $d$ définie par un point $A(x_A ; y_A ; z_A)$ et un\n",
    "vecteur directeur $\\overrightarrow{u}(a ; b ; c)$.  <br>\n",
    "La droite $d$ admet alors un système d’équations paramétriques, appelé représentation paramétrique, de la forme :  <br>\n",
    "$$d : \\begin{cases} x = x_A + a t \\\\ y = y_A + b t \\\\ z = z_A + c t \\end{cases}\n",
    ",\\quad  t \\in \\mathbb{R}$$  \n",
    "</div>    \n",
    "\n",
    "\n",
    "\n",
    "**Démonstration :**   \n",
    "Soit un point $M(x ; y ; z)$ de $d$, alors $\\overrightarrow{AM}$ et $\\overrightarrow{u}$ sont colinéaires :  \n",
    "$$\\overrightarrow{AM} = t \\overrightarrow{u} \\quad  \\mbox{avec} \\quad t \\in \\mathbb{R}$$  \n",
    "\n",
    "On obtient le système suivant :   \n",
    "$$\\begin{cases} x − x_A = a t \\\\ y − y_A = b t \\\\ z − z_A = c t \\end{cases} \\iff \\begin{cases}x = x_A + a t \\\\ y = y_A + b t \\\\ z = z_A + c t \\end{cases}$$  \n",
    "\n",
    "\n",
    "**Remarque :**  \n",
    "• Pour une demi-droite, $t \\in ] − \\infty ; \\alpha]$ ou $t \\in [\\alpha ;+\\infty[$   et un segment $t \\in [\\alpha ; \\beta]$.   \n",
    "\n",
    "• La représentation paramétrique d’une droite n’est pas unique.On peut prendre\n",
    "un autre point sur la droite et un autre vecteur directeur colinéaire au premier.  \n",
    "\n",
    "\n",
    "\n",
    "## 2) Applications\n",
    "<div class=\"alert alert-block alert-info\">\n",
    "Donner une représentation paramétrique de la droite $d$ définie par :  \n",
    "$A(2 ; 1 ;−1)$ et $\\overrightarrow{u}(0 ; 1 ;−1)$.\n",
    "    \n",
    "</div>\n",
    "  \n",
    "La droite $d$ a pour représentation paramétrique : \n",
    "$$\\begin{cases}x = 2 \\\\ y = 1 + t \\\\ z = −1 − t \\end{cases} \\quad , t \\in \\mathbb{R}$$  \n",
    "  \n",
    "\n",
    "\n",
    "<div class=\"alert alert-block alert-info\">\n",
    "A et B ont pour coordonnées respectives : $A(−2 ; 1 ; 0)$ et $B(2 ; 3 ; 1)$\n",
    "Donner une représentation paramétrique de chacun des ensembles suivants :<br>\n",
    "• La droite $(AB)$ <br>\n",
    "    • Le segment $[AB]$  <br>\n",
    "   • La demi-droite $[BA)$  \n",
    "</div>\n",
    "  \n",
    "  \n",
    "  \n",
    "<div class=\"alert alert-block alert-info\">  \n",
    "Les systèmes suivants sont-ils associés à une même droite ?<br>\n",
    "$$\\begin{cases} x = 2t − 1 \\\\ y = t \\\\ z = 1 − 3t \\end{cases} \\quad , t \\in \\mathbb{R} \\quad \\mbox{et} \\quad \\begin{cases}x = 3 − 6s \\\\ y = −3s + 2 \\\\ z = 9s − 5 \\end{cases} ,\\quad  s \\in  \\mathbb{R}$$  \n",
    " </div>     \n",
    " \n",
    "**Solution:**  \n",
    "$\\begin{cases} x = 2t − 1 \\\\ y = t \\\\ z = 1 − 3t \\end{cases} \\quad , t \\in \\mathbb{R} $ admet comme vecteur directeur $\\overrightarrow{u} \\begin{pmatrix} 2 \\\\ 1 \\\\ -3 \\end{pmatrix}$.    \n",
    "\n",
    "et $\\begin{cases}x = 3 − 6s \\\\ y = −3s + 2 \\\\ z = 9s − 5 \\end{cases} ,\\quad  s \\in  \\mathbb{R}$ admet comme vecteur directeur $\\overrightarrow{v} \\begin{pmatrix} -6 \\\\ -3 \\\\ 9 \\end{pmatrix}$.  \n",
    "\n",
    "En comparant leurs coordonnées, on obtient  $\\overrightarrow{v}=-3\\overrightarrow{u}$.  \n",
    "\n",
    "On en déduit que les deux droites sont parallèles. Pour distinguer, si elles sont strictement parallèles ou confondues, vérifions si elles ont un point commun.  \n",
    "\n",
    "Soit $A(-1;0;1)$ un point de $(d)$.  \n",
    "$A \\in (d') \\iff $ ses coordonnées vérifient la représentation paramétrique de $(d')$.  \n",
    "Vérifions:  \n",
    "$\\begin{cases}x_A = 3 − 6s \\\\ y_A = −3s + 2 \\\\ z_A = 9s − 5 \\end{cases} \\iff \\begin{cases} -1 = 3 − 6s \\\\ 0 = −3s + 2 \\\\ 1 = 9s − 5 \\end{cases} \\iff \\begin{cases} -4 = − 6s \\\\ -2 = −3s  \\\\ 6 = 9s  \\end{cases} \\iff  \\begin{cases} s = \\dfrac{2}{3} \\\\ s = \\dfrac{2}{3}  \\\\ s=\\dfrac{2}{3}  \\end{cases} $  \n",
    "\n",
    "Ainsi $(d)$ et $(d')$ sont confondues.\n",
    "\n",
    "\n",
    "\n",
    " \n",
    "\n",
    "\n",
    "<div class=\"alert alert-block alert-info\"> \n",
    "On donne les droites $d_1$ et $d_2$ de représentations paramétriques suivantes :  \n",
    "    $$d_1 :\\begin{cases}  x = 6 − 3s \\\\ y = −7 + 2s \\\\ z = −1 + s \\end{cases} \\quad , s \\in \\mathbb{R} \\quad  \\mbox{et} \\quad  d_2 : \\begin{cases} x = −3 + t \\\\ y = −3 \\\\ z = −5 + 2t \\end{cases} \\quad , t \\in \\mathbb{R} $$  \n",
    "Démontrer que ces droites sont sécantes et déterminer leur point d’intersection. \n",
    "</div>\n",
    "\n",
    "**Solution**   \n",
    "\n",
    "$d_1$ et $d_2$ admettent respectivement pour vecteur directeur $\\overrightarrow{u} \\begin{pmatrix} -3 \\\\ 2 \\\\ 1 \\end{pmatrix}$ et  $\\overrightarrow{v} \\begin{pmatrix} 1 \\\\ 0 \\\\ 2 \\end{pmatrix}$. \n",
    "\n",
    "On a $\\dfrac{-1}{3} \\neq \\dfrac{0}{2}$ et ainsi il n'y a pas colinéarité entre les deux vecteurs directeurs.   \n",
    "On en déduit que les droites sont soit sécantes, soit non coplanaires. Pour distinguer ces deux cas, on leur cherche un éventuel point commun. Point dont les coordonnées vérifient les deux représentations paramétriques et permet de poser l'égalité suivante:   \n",
    "\n",
    "$$\\begin{cases} 6 − 3s &=& −3 + t \\\\ −7 + 2s &=& −3 \\\\ −1 + s &=& −5 + 2t \\end{cases} \\\\  \\\\ \\iff \\begin{cases} 9  − 3s &=&  t \\\\  2s &=& 4 \\\\  s + 4 &=&  2t \\end{cases} \\\\ \\\\  \\iff \\begin{cases} t &=& 9 - 3s  \\\\ s &=& 2 \\\\ t &=& s + 4 \\end{cases} \\\\ \\\\  \\iff \\begin{cases} t &=& 9 - 6  \\\\ s &=& 2 \\\\ t &=& 6 \\end{cases} \\\\ \\\\  \\iff  \\begin{cases}t &=& 3  \\\\ s &=& 2 \\\\ t &=& 6 \\end{cases}$$  \n",
    "\n",
    "Il n'existe donc pas de point commun aux deux droites, elles sont donc non coplanaires. \n",
    "\n",
    "\n",
    "\n",
    "\n",
    "\n",
    "\n",
    "## 3) Représentation paramétrique d’un plan\n",
    "<div class=\"alert alert-block alert-danger\">\n",
    "Soit un plan $(P)$ défini par un point $A(x_A ; y_A ; z_A)$ et deux\n",
    "vecteurs non colinéaires $\\overrightarrow{u}(a ; b ; c)$ et $\\overrightarrow{v}(\\alpha  ;\\beta ; \\gamma)$.<br>\n",
    "Le plan $(P)$ admet alors un système d’équations paramétriques, appelé représentation paramétrique, de la forme :<br>\n",
    "    $$ (P) : \\begin{cases}x = x_A + a t + \\alpha s \\\\ y = y_A + b t + \\beta s \\\\ z = zA + c t + \\gamma s \\end{cases} \\quad , (t, s) \\in \\mathbb{R}^2$$\n",
    "</div>\n",
    "\n",
    "**Exemple :**  \n",
    "Soit les points $A(−1 ; 2 ; 5)$ , $B(1 ; 0 ;−2)$ et $C(0 ; 2 ;−3)$.\n",
    "Montrer que les points A, B, C définissent un plan dont on donnera une représentation paramétrique.   \n",
    "\n",
    "  \n",
    "  \n",
    "$\\overrightarrow{AB} \\begin{pmatrix} 2 \\\\ −2 \\\\ −7\\end{pmatrix}$ et $\\overrightarrow{AC} \\begin{pmatrix}1 \\\\  0 \\\\ −8 \\end{pmatrix}$.    \n",
    "\n",
    "Les coordonnées de $\\overrightarrow{AB}$  et $\\overrightarrow{AC}$  ne sont pas proportionnelles, donc les vecteurs $\\overrightarrow{AB}$ et  $\\overrightarrow{AC}$ ne sont pas colinéaires. Les points A, B et C définissent le plan $(ABC)$.      \n",
    "\n",
    "Une représentation paramétrique du plan $(ABC)$ est :   \n",
    "  \n",
    "$$\\begin{cases} x = −1 + 2t + s \\\\ y = 2 − 2t \\\\ z = 5 − 7t − 8s \\end{cases} \\quad , (t, s) \\in \\mathbb{R}^2$$   \n"
   ]
  },
  {
   "cell_type": "code",
   "execution_count": null,
   "metadata": {},
   "outputs": [],
   "source": []
  }
 ],
 "metadata": {
  "kernelspec": {
   "display_name": "Python 3",
   "language": "python",
   "name": "python3"
  },
  "language_info": {
   "codemirror_mode": {
    "name": "ipython",
    "version": 3
   },
   "file_extension": ".py",
   "mimetype": "text/x-python",
   "name": "python",
   "nbconvert_exporter": "python",
   "pygments_lexer": "ipython3",
   "version": "3.8.5"
  }
 },
 "nbformat": 4,
 "nbformat_minor": 2
}
